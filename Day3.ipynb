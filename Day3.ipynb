{
 "cells": [
  {
   "cell_type": "code",
   "execution_count": 2,
   "metadata": {},
   "outputs": [
    {
     "name": "stdout",
     "output_type": "stream",
     "text": [
      "Welcome to the rollercoaster!\n",
      "Sorry! Try the baby rides.\n"
     ]
    }
   ],
   "source": [
    "print(\"Welcome to the rollercoaster!\")\n",
    "height = int(input(\"What is your height in cm? \"))\n",
    "\n",
    "if height > 120:\n",
    "  print(\"You can ride the rollercoaster\")\n",
    "else:\n",
    "  print(\"Sorry! Try the baby rides.\")"
   ]
  },
  {
   "cell_type": "markdown",
   "metadata": {},
   "source": [
    "Write a program that works out whether if a given number is an odd or even number.\n",
    "\n",
    "Even numbers can be divided by 2 with no remainder.\n",
    "\n",
    "e.g. 86 is even because 86 ÷ 2 = 43\n",
    "\n",
    "43 does not have any decimal places. Therefore the division is clean.\n",
    "\n",
    "e.g. 59 is odd because 59 ÷ 2 = 29.5\n",
    "\n",
    "29.5 is not a whole number, it has decimal places. Therefore there is a remainder of 0.5, so the division is not clean.\n",
    "\n",
    "The modulo is written as a percentage sign (%) in Python. It gives you the remainder after a division."
   ]
  },
  {
   "cell_type": "code",
   "execution_count": 5,
   "metadata": {},
   "outputs": [
    {
     "name": "stdout",
     "output_type": "stream",
     "text": [
      "This is an even number!\n"
     ]
    }
   ],
   "source": [
    "# Which number do you want to check?\n",
    "number = int(input())\n",
    "# 🚨 Don't change the code above 👆\n",
    "\n",
    "# Write your code below this line 👇\n",
    "if number % 2 == 0:\n",
    "  print(\"This is an even number.\")\n",
    "else:\n",
    "  print(\"This is an odd number.\")"
   ]
  },
  {
   "cell_type": "markdown",
   "metadata": {},
   "source": [
    "#### Nested if statements and elif statement"
   ]
  },
  {
   "cell_type": "code",
   "execution_count": null,
   "metadata": {},
   "outputs": [],
   "source": [
    "print(\"Welcome to the rollercoaster!\")\n",
    "height = int(input(\"What is your height in cm? \"))\n",
    "\n",
    "if height > 120:\n",
    "  print(\"You can ride the rollercoaster\")\n",
    "  age = int(input(\"What is your age?\"))\n",
    "  if age < 12:\n",
    "    print(\"Please pay $5\")\n",
    "  elif age <= 18:\n",
    "    print(\"Please pay $7.\")\n",
    "  else:\n",
    "    print(\"Please pay $12.\")\n",
    "else:\n",
    "  print(\"Sorry! Try the baby rides.\")"
   ]
  },
  {
   "cell_type": "markdown",
   "metadata": {},
   "source": [
    "Write a program that interprets the Body Mass Index (BMI) based on a user's weight and height.\n",
    "\n",
    "It should tell them the interpretation of their BMI based on the BMI value.\n",
    "\n",
    "Under 18.5 they are underweight\n",
    "Equal to or over 18.5 but below 25 they have a normal weight\n",
    "Equal to or over 25 but below 30 they are slightly overweight\n",
    "Equal to or over 30 but below 35 they are obese\n",
    "Equal to or over 35 they are clinically obese."
   ]
  },
  {
   "cell_type": "code",
   "execution_count": 7,
   "metadata": {},
   "outputs": [
    {
     "name": "stdout",
     "output_type": "stream",
     "text": [
      "Your BMI is 28.0, you are slightly overweight\n"
     ]
    }
   ],
   "source": [
    "# Enter your height in meters e.g., 1.55\n",
    "height = float(input())\n",
    "# Enter your weight in kilograms e.g., 72\n",
    "weight = int(input())\n",
    "# 🚨 Don't change the code above 👆\n",
    "\n",
    "#Write your code below this line 👇\n",
    "BMI = weight/(height**2)\n",
    "\n",
    "if BMI <= 18.5:\n",
    "  print(f\"Your BMI is {BMI}, you are underweight.\")\n",
    "elif BMI < 25:\n",
    "  print(f\"Your BMI is {BMI}, you have a normal weight.\")\n",
    "elif BMI < 30 :\n",
    "  print(f\"Your BMI is {BMI}, you are slightly overweight.\")\n",
    "elif BMI < 35 :\n",
    "  print(f\"Your BMI is {BMI}, you are obese.\")\n",
    "else:\n",
    "  print(f\"Your BMI is {BMI}, you are clinically obese.\")"
   ]
  },
  {
   "cell_type": "markdown",
   "metadata": {},
   "source": [
    "Write a program that works out whether if a given year is a leap year. A normal year has 365 days, leap years have 366, with an extra day in February. The reason why we have leap years is really fascinating, this video does it more justice.\n",
    "\n",
    "This is how you work out whether if a particular year is a leap year.\n",
    "\n",
    "on every year that is divisible by 4 with no remainder\n",
    "\n",
    "except every year that is evenly divisible by 100 with no remainder\n",
    "\n",
    "unless the year is also divisible by 400 with no remainder\n",
    "\n",
    "If english is not your first language or if the above logic is confusing, try using this flow chart .\n",
    "\n",
    "e.g. The year 2000:\n",
    "\n",
    "2000 ÷ 4 = 500 (Leap)\n",
    "\n",
    "2000 ÷ 100 = 20 (Not Leap)\n",
    "\n",
    "2000 ÷ 400 = 5 (Leap!)\n",
    "\n",
    "So the year 2000 is a leap year.\n",
    "\n",
    "But the year 2100 is not a leap year because:\n",
    "\n",
    "2100 ÷ 4 = 525 (Leap)\n",
    "\n",
    "2100 ÷ 100 = 21 (Not Leap)\n",
    "\n",
    "2100 ÷ 400 = 5.25 (Not Leap)\n",
    "\n",
    "Warning your output should match the Example Output format exactly, including spelling an punctuation."
   ]
  },
  {
   "cell_type": "code",
   "execution_count": 8,
   "metadata": {},
   "outputs": [
    {
     "name": "stdout",
     "output_type": "stream",
     "text": [
      "Leap Year\n"
     ]
    }
   ],
   "source": [
    "# Which year do you want to check?\n",
    "year = int(input())\n",
    "# 🚨 Don't change the code above 👆\n",
    "\n",
    "# Write your code below this line 👇\n",
    "if year % 4 == 0:\n",
    "  if year % 100 == 0:\n",
    "    if year % 400 == 0:\n",
    "      print(\"Leap year\")\n",
    "    else:\n",
    "      print(\"Not leap year\")\n",
    "  else:\n",
    "    print(\"Leap year\")\n",
    "else:\n",
    "  print(\"Not leap year\")"
   ]
  }
 ],
 "metadata": {
  "kernelspec": {
   "display_name": "base",
   "language": "python",
   "name": "python3"
  },
  "language_info": {
   "codemirror_mode": {
    "name": "ipython",
    "version": 3
   },
   "file_extension": ".py",
   "mimetype": "text/x-python",
   "name": "python",
   "nbconvert_exporter": "python",
   "pygments_lexer": "ipython3",
   "version": "3.10.9"
  }
 },
 "nbformat": 4,
 "nbformat_minor": 2
}
