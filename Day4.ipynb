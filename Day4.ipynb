{
 "cells": [
  {
   "cell_type": "markdown",
   "metadata": {},
   "source": [
    "#### Randomization and python list"
   ]
  },
  {
   "cell_type": "code",
   "execution_count": 2,
   "metadata": {},
   "outputs": [],
   "source": [
    "# Import Module\n",
    "import random"
   ]
  },
  {
   "cell_type": "code",
   "execution_count": 7,
   "metadata": {},
   "outputs": [
    {
     "name": "stdout",
     "output_type": "stream",
     "text": [
      "10\n"
     ]
    }
   ],
   "source": [
    "random_number = random.randint(1,10)\n",
    "print(random_number)"
   ]
  },
  {
   "cell_type": "code",
   "execution_count": 19,
   "metadata": {},
   "outputs": [
    {
     "name": "stdout",
     "output_type": "stream",
     "text": [
      "5.967086461378188\n"
     ]
    }
   ],
   "source": [
    "random_float = random.random()\n",
    "print(random_float)"
   ]
  },
  {
   "cell_type": "code",
   "execution_count": 23,
   "metadata": {},
   "outputs": [
    {
     "name": "stdout",
     "output_type": "stream",
     "text": [
      "3.7006257227888617\n"
     ]
    }
   ],
   "source": [
    "# Print 0 - 10 with decimals\n",
    "\n",
    "random_float = random.random()\n",
    "print(random_float*random_number)"
   ]
  },
  {
   "cell_type": "markdown",
   "metadata": {},
   "source": [
    "You are going to write a virtual coin toss program. It will randomly tell the user \"Heads\" or \"Tails\".\n",
    "\n",
    "Important, the first letter should be capitalised and spelt exactly like in the example e.g. \"Heads\", not \"heads\".\n",
    "\n",
    "There are many ways of doing this. But to practice what we learnt in the last lesson, you should generate a random number, either 0 or 1. Then use that number to print out \"Heads\" or \"Tails\"."
   ]
  },
  {
   "cell_type": "code",
   "execution_count": 3,
   "metadata": {},
   "outputs": [
    {
     "name": "stdout",
     "output_type": "stream",
     "text": [
      "Tails\n"
     ]
    }
   ],
   "source": [
    "flip = random.randint(0,1)\n",
    "\n",
    "if flip == 1:\n",
    "  print(\"Heads\")\n",
    "else:\n",
    "  print(\"Tails\")"
   ]
  },
  {
   "cell_type": "markdown",
   "metadata": {},
   "source": [
    "#### Appending Items in a list and Offset"
   ]
  },
  {
   "cell_type": "code",
   "execution_count": 6,
   "metadata": {},
   "outputs": [
    {
     "name": "stdout",
     "output_type": "stream",
     "text": [
      "Pennsylvania\n",
      "Hawaii\n",
      "['Delaware', 'Pencilvania', 'New Jersey', 'Georgia', 'Connecticut', 'Massachusetts', 'Maryland', 'South Carolina', 'New Hampshire', 'Virginia', 'New York', 'North Carolina', 'Rhode Island', 'Vermont', 'Kentucky', 'Tennessee', 'Ohio', 'Louisiana', 'Indiana', 'Mississippi', 'Illinois', 'Alabama', 'Maine', 'Missouri', 'Arkansas', 'Michigan', 'Florida', 'Texas', 'Iowa', 'Wisconsin', 'California', 'Minnesota', 'Oregon', 'Kansas', 'West Virginia', 'Nevada', 'Nebraska', 'Colorado', 'North Dakota', 'South Dakota', 'Montana', 'Washington', 'Idaho', 'Wyoming', 'Utah', 'Oklahoma', 'New Mexico', 'Arizona', 'Alaska', 'Hawaii']\n",
      "['Delaware', 'Pencilvania', 'New Jersey', 'Georgia', 'Connecticut', 'Massachusetts', 'Maryland', 'South Carolina', 'New Hampshire', 'Virginia', 'New York', 'North Carolina', 'Rhode Island', 'Vermont', 'Kentucky', 'Tennessee', 'Ohio', 'Louisiana', 'Indiana', 'Mississippi', 'Illinois', 'Alabama', 'Maine', 'Missouri', 'Arkansas', 'Michigan', 'Florida', 'Texas', 'Iowa', 'Wisconsin', 'California', 'Minnesota', 'Oregon', 'Kansas', 'West Virginia', 'Nevada', 'Nebraska', 'Colorado', 'North Dakota', 'South Dakota', 'Montana', 'Washington', 'Idaho', 'Wyoming', 'Utah', 'Oklahoma', 'New Mexico', 'Arizona', 'Alaska', 'Hawaii', 'Sotoland']\n",
      "['Delaware', 'Pencilvania', 'New Jersey', 'Georgia', 'Connecticut', 'Massachusetts', 'Maryland', 'South Carolina', 'New Hampshire', 'Virginia', 'New York', 'North Carolina', 'Rhode Island', 'Vermont', 'Kentucky', 'Tennessee', 'Ohio', 'Louisiana', 'Indiana', 'Mississippi', 'Illinois', 'Alabama', 'Maine', 'Missouri', 'Arkansas', 'Michigan', 'Florida', 'Texas', 'Iowa', 'Wisconsin', 'California', 'Minnesota', 'Oregon', 'Kansas', 'West Virginia', 'Nevada', 'Nebraska', 'Colorado', 'North Dakota', 'South Dakota', 'Montana', 'Washington', 'Idaho', 'Wyoming', 'Utah', 'Oklahoma', 'New Mexico', 'Arizona', 'Alaska', 'Hawaii', 'Sotoland', 'Jorgeland', 'Luisland']\n"
     ]
    }
   ],
   "source": [
    "states_of_america = [\"Delaware\", \"Pennsylvania\", \"New Jersey\", \"Georgia\", \"Connecticut\", \"Massachusetts\", \"Maryland\", \"South Carolina\", \"New Hampshire\", \"Virginia\", \"New York\", \"North Carolina\", \"Rhode Island\", \"Vermont\", \"Kentucky\", \"Tennessee\", \"Ohio\", \"Louisiana\", \"Indiana\", \"Mississippi\", \"Illinois\", \"Alabama\", \"Maine\", \"Missouri\", \"Arkansas\", \"Michigan\", \"Florida\", \"Texas\", \"Iowa\", \"Wisconsin\", \"California\", \"Minnesota\", \"Oregon\", \"Kansas\", \"West Virginia\", \"Nevada\", \"Nebraska\", \"Colorado\", \"North Dakota\", \"South Dakota\", \"Montana\", \"Washington\", \"Idaho\", \"Wyoming\", \"Utah\", \"Oklahoma\", \"New Mexico\", \"Arizona\", \"Alaska\", \"Hawaii\"]\n",
    "\n",
    "print(states_of_america[1])\n",
    "\n",
    "# Index -1 starts from the end of the list\n",
    "print(states_of_america[-1])\n",
    "\n",
    "# Change your item\n",
    "states_of_america[1] = \"Pencilvania\"\n",
    "\n",
    "print(states_of_america)\n",
    "\n",
    "# Add an item to the list\n",
    "states_of_america.append(\"Sotoland\")\n",
    "\n",
    "print(states_of_america)\n",
    "\n",
    "# To add multiple item use extend\n",
    "states_of_america.extend([\"Jorgeland\", \"Luisland\"])\n",
    "\n",
    "print(states_of_america)"
   ]
  },
  {
   "cell_type": "code",
   "execution_count": null,
   "metadata": {},
   "outputs": [],
   "source": [
    "dirty_dozen = [\"Strawberries\", \"Spinach\", \"Kale\", \"Nectarines\", \"Apples\", \"Grapes\", \"Peaches\", \"Cherries\", \"Pears\", \"Tomatoes\", \"Celery\", \"Potatoes\"]"
   ]
  },
  {
   "cell_type": "markdown",
   "metadata": {},
   "source": [
    "#### BANKER ROULETTE\n",
    "You are going to write a program that will select a random name from a list of names. The person selected will have to pay for everybody's food bill.\n",
    "\n",
    "Important: You are not allowed to use the choice() function.\n",
    "\n",
    "Line 1 splits the string names_string into individual names and puts them inside a List called names. For this to work, you must enter all the names as names followed by comma then space. e.g. name, name, name"
   ]
  },
  {
   "cell_type": "code",
   "execution_count": null,
   "metadata": {},
   "outputs": [],
   "source": [
    "names = names_string.split(\", \")\n",
    "# names_string contains the input values provided. \n",
    "# The code above converts the input into an array seperating\n",
    "# each name in the input by a comma and space.\n",
    "# 🚨 Don't change the code above 👆\n",
    "import random\n",
    "\n",
    "# Get the total number of items in list.\n",
    "number_of_people = len(names)-1\n",
    "\n",
    "# Generate random numbers between 0 and the last index. \n",
    "random_pick = random.randint(0,number_of_people)\n",
    "\n",
    "#print(random_pick)\n",
    "print(f\"{names[random_pick]} is going to buy the meal today!\")"
   ]
  },
  {
   "cell_type": "markdown",
   "metadata": {},
   "source": [
    "#### IndexErrors and Working with Nested Lists"
   ]
  },
  {
   "cell_type": "code",
   "execution_count": 1,
   "metadata": {},
   "outputs": [
    {
     "name": "stdout",
     "output_type": "stream",
     "text": [
      "[['Starberries', 'Apples'], ['Spinach', 'Tomatoes']]\n"
     ]
    }
   ],
   "source": [
    "dirty_dozen = [\"Strawberries\", \"Spinach\", \"Kale\", \"Nectarines\", \"Apples\", \"Grapes\", \"Peaches\", \"Cherries\", \"Pears\", \"Tomatoes\", \"Celery\", \"Potatoes\"]\n",
    "\n",
    "fruits = [\"Starberries\", \"Apples\"]\n",
    "vegetables = [\"Spinach\", \"Tomatoes\"]\n",
    "\n",
    "dirty_dozen_2 = [fruits, vegetables]\n",
    "\n",
    "print(dirty_dozen_2)"
   ]
  },
  {
   "cell_type": "markdown",
   "metadata": {},
   "source": [
    "#### Treasure\n",
    "This is a difficult challenge. 💪\n",
    "\n",
    "You are going to write a program that will mark a spot on a map with an X."
   ]
  },
  {
   "cell_type": "code",
   "execution_count": null,
   "metadata": {},
   "outputs": [],
   "source": [
    "line1 = [\"⬜️\",\"️⬜️\",\"️⬜️\"]\n",
    "line2 = [\"⬜️\",\"⬜️\",\"️⬜️\"]\n",
    "line3 = [\"⬜️️\",\"⬜️️\",\"⬜️️\"]\n",
    "map = [line1, line2, line3]\n",
    "print(\"Hiding your treasure! X marks the spot.\")\n",
    "position = input() # Where do you want to put the treasure?\n",
    "# 🚨 Don't change the code above 👆\n",
    "# Write your code below this row 👇\n",
    "number = int(position[1])-1\n",
    "\n",
    "if position[0] == \"A\":\n",
    "  map[number][0] = (\"X\")\n",
    "if position[0] == \"B\":\n",
    "  map[number][1] = (\"X\")\n",
    "if position[0] == \"C\":\n",
    "  map[number][2] = (\"X\")\n",
    "\n",
    "# Write your code above this row 👆\n",
    "# 🚨 Don't change the code below 👇\n",
    "print(f\"{line1}\\n{line2}\\n{line3}\")"
   ]
  },
  {
   "cell_type": "markdown",
   "metadata": {},
   "source": [
    "Teacher Way"
   ]
  },
  {
   "cell_type": "code",
   "execution_count": null,
   "metadata": {},
   "outputs": [],
   "source": [
    "line1 = [\"⬜️\",\"️⬜️\",\"️⬜️\"]\n",
    "line2 = [\"⬜️\",\"⬜️\",\"️⬜️\"]\n",
    "line3 = [\"⬜️️\",\"⬜️️\",\"⬜️️\"]\n",
    "map = [line1, line2, line3]\n",
    "print(\"Hiding your treasure! X marks the spot.\")\n",
    "position = input() # Where do you want to put the treasure?\n",
    "# Your code below\n",
    "letter = position[0].lower()\n",
    "abc = [\"a\", \"b\", \"c\"]\n",
    "letter_index = abc.index(letter)\n",
    "number_index = int(position[1]) - 1\n",
    "map[number_index][letter_index] = \"X\"\n",
    "\n",
    "print(f\"{line1}\\n{line2}\\n{line3}\")"
   ]
  }
 ],
 "metadata": {
  "kernelspec": {
   "display_name": "base",
   "language": "python",
   "name": "python3"
  },
  "language_info": {
   "codemirror_mode": {
    "name": "ipython",
    "version": 3
   },
   "file_extension": ".py",
   "mimetype": "text/x-python",
   "name": "python",
   "nbconvert_exporter": "python",
   "pygments_lexer": "ipython3",
   "version": "3.10.9"
  }
 },
 "nbformat": 4,
 "nbformat_minor": 2
}
